{
 "nbformat": 4,
 "nbformat_minor": 0,
 "metadata": {
  "colab": {
   "provenance": []
  },
  "kernelspec": {
   "name": "python3",
   "display_name": "Python 3"
  },
  "language_info": {
   "name": "python"
  }
 },
 "cells": [
  {
   "cell_type": "code",
   "execution_count": null,
   "metadata": {
    "colab": {
     "base_uri": "https://localhost:8080/"
    },
    "id": "cVOonzYqnIOQ",
    "outputId": "b8349ac1-3050-42da-b8fb-528b61e45bc6"
   },
   "outputs": [
    {
     "output_type": "stream",
     "name": "stderr",
     "text": [
      "[nltk_data] Downloading package twitter_samples to /root/nltk_data...\n",
      "[nltk_data]   Package twitter_samples is already up-to-date!\n"
     ]
    },
    {
     "output_type": "execute_result",
     "data": {
      "text/plain": [
       "True"
      ]
     },
     "metadata": {},
     "execution_count": 1
    }
   ],
   "source": [
    "import nltk\n",
    "nltk.download('twitter_samples')"
   ]
  },
  {
   "cell_type": "code",
   "source": [
    "from nltk.corpus import twitter_samples\n",
    "postive_tweets=twitter_samples.strings('positive_tweets.json')\n",
    "negative_tweets=twitter_samples.strings('negative_tweets.json')"
   ],
   "metadata": {
    "id": "o1dJ2IGLqrYV"
   },
   "execution_count": null,
   "outputs": []
  },
  {
   "cell_type": "code",
   "source": [
    "print(len(postive_tweets),len(negative_tweets))"
   ],
   "metadata": {
    "colab": {
     "base_uri": "https://localhost:8080/"
    },
    "id": "cr5oHvuMrcOv",
    "outputId": "5057f720-59f8-49b8-fa90-2f8a55f6bc65"
   },
   "execution_count": null,
   "outputs": [
    {
     "output_type": "stream",
     "name": "stdout",
     "text": [
      "5000 5000\n"
     ]
    }
   ]
  },
  {
   "cell_type": "code",
   "source": [
    "nltk.download('stopwords')"
   ],
   "metadata": {
    "colab": {
     "base_uri": "https://localhost:8080/"
    },
    "id": "gWecEXIyrhh6",
    "outputId": "f793dbd2-2a94-4502-f660-d10bbcdf55d5"
   },
   "execution_count": null,
   "outputs": [
    {
     "output_type": "stream",
     "name": "stderr",
     "text": [
      "[nltk_data] Downloading package stopwords to /root/nltk_data...\n",
      "[nltk_data]   Package stopwords is already up-to-date!\n"
     ]
    },
    {
     "output_type": "execute_result",
     "data": {
      "text/plain": [
       "True"
      ]
     },
     "metadata": {},
     "execution_count": 4
    }
   ]
  },
  {
   "cell_type": "code",
   "source": [
    "from nltk.corpus import stopwords\n",
    "stop_words=stopwords.words('english')\n",
    "print(stop_words)"
   ],
   "metadata": {
    "colab": {
     "base_uri": "https://localhost:8080/"
    },
    "id": "BX_-npOerxud",
    "outputId": "6ffbf311-41a6-4d12-bc34-40fa3905e002"
   },
   "execution_count": null,
   "outputs": [
    {
     "output_type": "stream",
     "name": "stdout",
     "text": [
      "['i', 'me', 'my', 'myself', 'we', 'our', 'ours', 'ourselves', 'you', \"you're\", \"you've\", \"you'll\", \"you'd\", 'your', 'yours', 'yourself', 'yourselves', 'he', 'him', 'his', 'himself', 'she', \"she's\", 'her', 'hers', 'herself', 'it', \"it's\", 'its', 'itself', 'they', 'them', 'their', 'theirs', 'themselves', 'what', 'which', 'who', 'whom', 'this', 'that', \"that'll\", 'these', 'those', 'am', 'is', 'are', 'was', 'were', 'be', 'been', 'being', 'have', 'has', 'had', 'having', 'do', 'does', 'did', 'doing', 'a', 'an', 'the', 'and', 'but', 'if', 'or', 'because', 'as', 'until', 'while', 'of', 'at', 'by', 'for', 'with', 'about', 'against', 'between', 'into', 'through', 'during', 'before', 'after', 'above', 'below', 'to', 'from', 'up', 'down', 'in', 'out', 'on', 'off', 'over', 'under', 'again', 'further', 'then', 'once', 'here', 'there', 'when', 'where', 'why', 'how', 'all', 'any', 'both', 'each', 'few', 'more', 'most', 'other', 'some', 'such', 'no', 'nor', 'not', 'only', 'own', 'same', 'so', 'than', 'too', 'very', 's', 't', 'can', 'will', 'just', 'don', \"don't\", 'should', \"should've\", 'now', 'd', 'll', 'm', 'o', 're', 've', 'y', 'ain', 'aren', \"aren't\", 'couldn', \"couldn't\", 'didn', \"didn't\", 'doesn', \"doesn't\", 'hadn', \"hadn't\", 'hasn', \"hasn't\", 'haven', \"haven't\", 'isn', \"isn't\", 'ma', 'mightn', \"mightn't\", 'mustn', \"mustn't\", 'needn', \"needn't\", 'shan', \"shan't\", 'shouldn', \"shouldn't\", 'wasn', \"wasn't\", 'weren', \"weren't\", 'won', \"won't\", 'wouldn', \"wouldn't\"]\n"
     ]
    }
   ]
  },
  {
   "cell_type": "code",
   "source": [
    "from nltk.stem import PorterStemmer\n",
    "import re"
   ],
   "metadata": {
    "id": "A7G2ooUUsBed"
   },
   "execution_count": null,
   "outputs": []
  },
  {
   "cell_type": "code",
   "source": [
    "tweet=postive_tweets[0]\n",
    "tweet=re.sub('(#|@)\\w*',\"\",tweet)\n",
    "tweet=re.sub('https?:\\/\\/\\S+',\"\",tweet)\n",
    "tweet=re.sub('(\\?|!)',\"\",tweet)\n",
    "tweet=re.sub('\\s\\d+\\s',\"\",tweet)\n",
    "tweet=re.sub('(\\.|\\,)+',\"\",tweet)\n",
    "tweet=re.sub('\\s+$',\"\",tweet)\n",
    "str(tweet.split())"
   ],
   "metadata": {
    "colab": {
     "base_uri": "https://localhost:8080/",
     "height": 35
    },
    "id": "-KimVfIYt3Is",
    "outputId": "44ef1c91-1591-49da-db9c-9bbe61838f77"
   },
   "execution_count": null,
   "outputs": [
    {
     "output_type": "execute_result",
     "data": {
      "text/plain": [
       "\"['for', 'being', 'top', 'engaged', 'members', 'in', 'my', 'community', 'this', 'week', ':)']\""
      ],
      "application/vnd.google.colaboratory.intrinsic+json": {
       "type": "string"
      }
     },
     "metadata": {},
     "execution_count": 8
    }
   ]
  },
  {
   "cell_type": "code",
   "source": [
    "#clean text\n",
    "def clean_text(tweet):\n",
    "    #clean text\n",
    "    tweet=re.sub('(#|@)\\w*',\"\",tweet)\n",
    "    tweet=re.sub('https?:\\/\\/\\S+',\"\",tweet)\n",
    "    tweet=re.sub('(\\?|!)',\"\",tweet)\n",
    "    tweet=re.sub('\\s\\d+\\s',\"\",tweet)\n",
    "    tweet=re.sub('(\\.|\\,)+',\"\",tweet)\n",
    "    tweet=re.sub('^\\s+',\"\",tweet)\n",
    "    tweet=re.sub('\\s+$',\"\",tweet)\n",
    "    return tweet"
   ],
   "metadata": {
    "id": "Hg_9P1-msIfm"
   },
   "execution_count": null,
   "outputs": []
  },
  {
   "cell_type": "code",
   "source": [
    "clean_text(postive_tweets[0])"
   ],
   "metadata": {
    "colab": {
     "base_uri": "https://localhost:8080/",
     "height": 35
    },
    "id": "luvwt1W2yzcE",
    "outputId": "da3b8750-a625-47f4-c6a8-ad47d559284c"
   },
   "execution_count": null,
   "outputs": [
    {
     "output_type": "execute_result",
     "data": {
      "text/plain": [
       "'for being top engaged members in my community this week :)'"
      ],
      "application/vnd.google.colaboratory.intrinsic+json": {
       "type": "string"
      }
     },
     "metadata": {},
     "execution_count": 12
    }
   ]
  },
  {
   "cell_type": "code",
   "source": [
    "vocab=[]\n",
    "vocab_size=0\n",
    "\n",
    "def process_tweets(tweets):\n",
    "\n",
    "    clean_tweets=[]\n",
    "    for tweet in tweets:\n",
    "\n",
    "        #clean tweet\n",
    "        tweet=clean_text(tweet)\n",
    "        tweet=tweet.split()\n",
    "        c_tweet=[word.lower() for word in tweet if word.lower() not in stop_words]\n",
    "\n",
    "        #steming\n",
    "        ps=PorterStemmer()\n",
    "        clean_tweet=[ps.stem(word) for word in c_tweet]\n",
    "\n",
    "\n",
    "        #count vocab size\n",
    "        for word in clean_tweet:\n",
    "\n",
    "            if word not in vocab:\n",
    "                vocab.append(word)\n",
    "\n",
    "                global vocab_size\n",
    "                vocab_size+=1\n",
    "\n",
    "        clean_tweet=' '.join(clean_tweet)\n",
    "\n",
    "        clean_tweets.append(clean_tweet)\n",
    "\n",
    "    return clean_tweets"
   ],
   "metadata": {
    "id": "GZyQFfJ-uMcZ"
   },
   "execution_count": null,
   "outputs": []
  },
  {
   "cell_type": "code",
   "source": [
    "positive_tweets=process_tweets(postive_tweets)\n",
    "negative_tweets=process_tweets(negative_tweets)"
   ],
   "metadata": {
    "id": "PsuILARnwxEO"
   },
   "execution_count": null,
   "outputs": []
  },
  {
   "cell_type": "code",
   "source": [
    "positive_labels=[1]*len(positive_tweets)\n",
    "negative_labels=[0]*len(negative_tweets)\n",
    "positive_tweets.extend(negative_tweets)\n",
    "positive_labels.extend(negative_labels)\n",
    "\n",
    "tweets=positive_tweets\n",
    "labels=positive_labels\n",
    "\n",
    "print(len(tweets),len(labels))"
   ],
   "metadata": {
    "colab": {
     "base_uri": "https://localhost:8080/"
    },
    "id": "clE9xhBQxUbX",
    "outputId": "b3389aca-619d-449a-9032-d16768c101fb"
   },
   "execution_count": null,
   "outputs": [
    {
     "output_type": "stream",
     "name": "stdout",
     "text": [
      "10000 10000\n"
     ]
    }
   ]
  },
  {
   "cell_type": "code",
   "source": [
    "import random\n",
    "\n",
    "zip_list=(list(zip(tweets,labels)))\n",
    "random.shuffle(zip_list)\n",
    "tweets,labels=zip(*zip_list)"
   ],
   "metadata": {
    "id": "t5dmdy9VyseF"
   },
   "execution_count": null,
   "outputs": []
  },
  {
   "cell_type": "markdown",
   "source": [
    "## Text Prepration"
   ],
   "metadata": {
    "id": "A1VoYo2ZzrUa"
   }
  },
  {
   "cell_type": "code",
   "source": [
    "from tensorflow.keras.preprocessing.text import one_hot"
   ],
   "metadata": {
    "id": "Mx3YG27NzoAE"
   },
   "execution_count": null,
   "outputs": []
  },
  {
   "cell_type": "code",
   "source": [
    "encoded_tweets=[one_hot(tweet,vocab_size,filters='') for tweet in tweets]"
   ],
   "metadata": {
    "id": "ZPx4KaM5zx3g"
   },
   "execution_count": null,
   "outputs": []
  },
  {
   "cell_type": "code",
   "source": [
    "encoded_tweets[:5]"
   ],
   "metadata": {
    "colab": {
     "base_uri": "https://localhost:8080/"
    },
    "id": "i-LuW9ty0AsO",
    "outputId": "a969ea4e-0d33-4176-f90f-c4ed2969a859"
   },
   "execution_count": null,
   "outputs": [
    {
     "output_type": "execute_result",
     "data": {
      "text/plain": [
       "[[880, 8208],\n",
       " [2682, 776, 8208, 9482, 2495, 5304],\n",
       " [6735, 6475, 2516, 1455, 8711, 9166, 1455, 5611, 3100, 8208],\n",
       " [8748, 4049, 1667, 8786, 9588],\n",
       " [10963, 407, 818, 6245, 1771]]"
      ]
     },
     "metadata": {},
     "execution_count": 21
    }
   ]
  },
  {
   "cell_type": "code",
   "source": [
    "from tensorflow.keras.preprocessing.sequence import pad_sequences\n",
    "padded_tweets=pad_sequences(encoded_tweets,maxlen=27,padding='post')\n",
    "padded_tweets[:5]"
   ],
   "metadata": {
    "colab": {
     "base_uri": "https://localhost:8080/"
    },
    "id": "uLQhX_hA0Kmt",
    "outputId": "c9dc4486-efc7-4fd7-aa0d-43d125a3d62b"
   },
   "execution_count": null,
   "outputs": [
    {
     "output_type": "execute_result",
     "data": {
      "text/plain": [
       "array([[  880,  8208,     0,     0,     0,     0,     0,     0,     0,\n",
       "            0,     0,     0,     0,     0,     0,     0,     0,     0,\n",
       "            0,     0,     0,     0,     0,     0,     0,     0,     0],\n",
       "       [ 2682,   776,  8208,  9482,  2495,  5304,     0,     0,     0,\n",
       "            0,     0,     0,     0,     0,     0,     0,     0,     0,\n",
       "            0,     0,     0,     0,     0,     0,     0,     0,     0],\n",
       "       [ 6735,  6475,  2516,  1455,  8711,  9166,  1455,  5611,  3100,\n",
       "         8208,     0,     0,     0,     0,     0,     0,     0,     0,\n",
       "            0,     0,     0,     0,     0,     0,     0,     0,     0],\n",
       "       [ 8748,  4049,  1667,  8786,  9588,     0,     0,     0,     0,\n",
       "            0,     0,     0,     0,     0,     0,     0,     0,     0,\n",
       "            0,     0,     0,     0,     0,     0,     0,     0,     0],\n",
       "       [10963,   407,   818,  6245,  1771,     0,     0,     0,     0,\n",
       "            0,     0,     0,     0,     0,     0,     0,     0,     0,\n",
       "            0,     0,     0,     0,     0,     0,     0,     0,     0]],\n",
       "      dtype=int32)"
      ]
     },
     "metadata": {},
     "execution_count": 22
    }
   ]
  },
  {
   "cell_type": "code",
   "source": [
    "import numpy as np\n",
    "train_tweets,train_y=padded_tweets[:9000],np.array(labels[:9000])\n",
    "test_tweets,test_y=padded_tweets[9000:],np.array(labels[9000:])\n",
    "len(train_tweets),len(test_tweets)"
   ],
   "metadata": {
    "colab": {
     "base_uri": "https://localhost:8080/"
    },
    "id": "4hmnCZzc3IgT",
    "outputId": "f0e45f64-9f4c-4125-dc02-acd862978363"
   },
   "execution_count": null,
   "outputs": [
    {
     "output_type": "execute_result",
     "data": {
      "text/plain": [
       "(9000, 1000)"
      ]
     },
     "metadata": {},
     "execution_count": 23
    }
   ]
  },
  {
   "cell_type": "code",
   "source": [
    "from tensorflow.keras.models import Sequential\n",
    "from tensorflow.keras.layers import Flatten,Embedding,Dense,Dropout,LSTM,GRU"
   ],
   "metadata": {
    "id": "GyecH80i1iD8"
   },
   "execution_count": null,
   "outputs": []
  },
  {
   "cell_type": "code",
   "source": [
    "vocab_size"
   ],
   "metadata": {
    "colab": {
     "base_uri": "https://localhost:8080/"
    },
    "id": "gzqodOOC27P3",
    "outputId": "0d406bf1-2cf5-40a8-d0ee-dd95ff9c65cc"
   },
   "execution_count": null,
   "outputs": [
    {
     "output_type": "execute_result",
     "data": {
      "text/plain": [
       "11154"
      ]
     },
     "metadata": {},
     "execution_count": 26
    }
   ]
  },
  {
   "cell_type": "code",
   "source": [
    "model=Sequential()\n",
    "model.add(Embedding(input_dim=vocab_size,output_dim=8,input_length=27))\n",
    "model.add(LSTM(20,activation='relu'))\n",
    "model.add(Dense(10,activation='relu'))\n",
    "model.add(Dropout(0.5))\n",
    "model.add(Dense(1,activation='sigmoid'))\n",
    "model.summary()"
   ],
   "metadata": {
    "colab": {
     "base_uri": "https://localhost:8080/"
    },
    "id": "dmKccWlW2E5L",
    "outputId": "51a3c5bb-eefb-4b6b-8275-16ddd0986920"
   },
   "execution_count": null,
   "outputs": [
    {
     "output_type": "stream",
     "name": "stdout",
     "text": [
      "Model: \"sequential_3\"\n",
      "_________________________________________________________________\n",
      " Layer (type)                Output Shape              Param #   \n",
      "=================================================================\n",
      " embedding_3 (Embedding)     (None, 27, 8)             89232     \n",
      "                                                                 \n",
      " lstm_2 (LSTM)               (None, 20)                2320      \n",
      "                                                                 \n",
      " dense_6 (Dense)             (None, 10)                210       \n",
      "                                                                 \n",
      " dropout_3 (Dropout)         (None, 10)                0         \n",
      "                                                                 \n",
      " dense_7 (Dense)             (None, 1)                 11        \n",
      "                                                                 \n",
      "=================================================================\n",
      "Total params: 91,773\n",
      "Trainable params: 91,773\n",
      "Non-trainable params: 0\n",
      "_________________________________________________________________\n"
     ]
    }
   ]
  },
  {
   "cell_type": "code",
   "source": [
    "model.compile(loss='binary_crossentropy',optimizer='adam',metrics=['accuracy'])\n",
    "model.fit(train_tweets,train_y,validation_split=0.1,epochs=5,batch_size=64)"
   ],
   "metadata": {
    "colab": {
     "base_uri": "https://localhost:8080/"
    },
    "id": "VIOX4SmI20Em",
    "outputId": "7b2c7e17-d8a6-426d-d9bc-30c1043c25fb"
   },
   "execution_count": null,
   "outputs": [
    {
     "output_type": "stream",
     "name": "stdout",
     "text": [
      "Epoch 1/5\n",
      "127/127 [==============================] - 5s 20ms/step - loss: 0.6840 - accuracy: 0.5226 - val_loss: 0.4956 - val_accuracy: 0.9389\n",
      "Epoch 2/5\n",
      "127/127 [==============================] - 2s 17ms/step - loss: 0.6888 - accuracy: 0.8752 - val_loss: 0.4638 - val_accuracy: 0.9600\n",
      "Epoch 3/5\n",
      "127/127 [==============================] - 3s 25ms/step - loss: 0.3589 - accuracy: 0.9436 - val_loss: 0.1241 - val_accuracy: 0.9700\n",
      "Epoch 4/5\n",
      "127/127 [==============================] - 2s 17ms/step - loss: 0.2452 - accuracy: 0.9526 - val_loss: 0.0684 - val_accuracy: 0.9767\n",
      "Epoch 5/5\n",
      "127/127 [==============================] - 2s 16ms/step - loss: 0.1982 - accuracy: 0.9633 - val_loss: 0.0609 - val_accuracy: 0.9789\n"
     ]
    },
    {
     "output_type": "execute_result",
     "data": {
      "text/plain": [
       "<keras.callbacks.History at 0x7fa7a9cc4af0>"
      ]
     },
     "metadata": {},
     "execution_count": 37
    }
   ]
  },
  {
   "cell_type": "code",
   "source": [
    "model.evaluate(train_tweets,train_y)"
   ],
   "metadata": {
    "colab": {
     "base_uri": "https://localhost:8080/"
    },
    "id": "po1QmAeF3ymU",
    "outputId": "ee94e199-3a96-44f4-ce66-e6e0e88c4fec"
   },
   "execution_count": null,
   "outputs": [
    {
     "output_type": "stream",
     "name": "stdout",
     "text": [
      "282/282 [==============================] - 2s 6ms/step - loss: 0.0206 - accuracy: 0.9944\n"
     ]
    },
    {
     "output_type": "execute_result",
     "data": {
      "text/plain": [
       "[0.020566951483488083, 0.9944444298744202]"
      ]
     },
     "metadata": {},
     "execution_count": 38
    }
   ]
  },
  {
   "cell_type": "code",
   "source": [
    "model.evaluate(test_tweets,test_y)"
   ],
   "metadata": {
    "colab": {
     "base_uri": "https://localhost:8080/"
    },
    "id": "qwQrC-CT4Gp8",
    "outputId": "5cd1973c-63ed-4bef-acfd-0bf55ae6a669"
   },
   "execution_count": null,
   "outputs": [
    {
     "output_type": "stream",
     "name": "stdout",
     "text": [
      "32/32 [==============================] - 0s 5ms/step - loss: 0.1169 - accuracy: 0.9670\n"
     ]
    },
    {
     "output_type": "execute_result",
     "data": {
      "text/plain": [
       "[0.11693668365478516, 0.9670000076293945]"
      ]
     },
     "metadata": {},
     "execution_count": 39
    }
   ]
  },
  {
   "cell_type": "code",
   "source": [],
   "metadata": {
    "id": "VEcStUau4Kld"
   },
   "execution_count": null,
   "outputs": []
  }
 ]
}
